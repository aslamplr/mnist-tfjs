{
  "nbformat": 4,
  "nbformat_minor": 0,
  "metadata": {
    "colab": {
      "name": "MNIST_Model_for_web.ipynb",
      "version": "0.3.2",
      "provenance": [],
      "collapsed_sections": []
    },
    "kernelspec": {
      "name": "python3",
      "display_name": "Python 3"
    },
    "accelerator": "GPU"
  },
  "cells": [
    {
      "metadata": {
        "id": "wwA8UssSmJuE",
        "colab_type": "text"
      },
      "cell_type": "markdown",
      "source": [
        "# MNIST Handwritten digit classifier in browser\n",
        "\n",
        "This notebook creates, train and export a model trained in MNIST handwritten digit classifying task, to be imported by tfjs in browser.\n"
      ]
    },
    {
      "metadata": {
        "id": "BsJ7LGe-mmoS",
        "colab_type": "text"
      },
      "cell_type": "markdown",
      "source": [
        "install `tensorflowjs`, which is only required in this notebook for saving the model compatible with `tensorflowjs`"
      ]
    },
    {
      "metadata": {
        "id": "855JDkg9jBMa",
        "colab_type": "code",
        "outputId": "5dca2cdf-9350-43fa-80a4-5bd8b4a78c5a",
        "colab": {
          "base_uri": "https://localhost:8080/",
          "height": 1211
        }
      },
      "cell_type": "code",
      "source": [
        "!pip install tensorflowjs"
      ],
      "execution_count": 0,
      "outputs": [
        {
          "output_type": "stream",
          "text": [
            "Collecting tensorflowjs\n",
            "  Downloading https://files.pythonhosted.org/packages/79/29/35e1aa467436ff46b98df65a08c49faaedb3429e1c512d1d90fe308040a0/tensorflowjs-1.0.1-py3-none-any.whl\n",
            "Collecting tf-nightly-2.0-preview>=2.0.0.dev20190304 (from tensorflowjs)\n",
            "\u001b[?25l  Downloading https://files.pythonhosted.org/packages/e2/02/e7ac2983803c11d7a0be5747cb8ba5ac7992e21ec21faa41f345c6925ab8/tf_nightly_2.0_preview-2.0.0.dev20190426-cp36-cp36m-manylinux1_x86_64.whl (86.2MB)\n",
            "\u001b[K    100% |████████████████████████████████| 86.2MB 436kB/s \n",
            "\u001b[?25hRequirement already satisfied: h5py==2.8.0 in /usr/local/lib/python3.6/dist-packages (from tensorflowjs) (2.8.0)\n",
            "Collecting numpy==1.15.1 (from tensorflowjs)\n",
            "\u001b[?25l  Downloading https://files.pythonhosted.org/packages/fe/94/7049fed8373c52839c8cde619acaf2c9b83082b935e5aa8c0fa27a4a8bcc/numpy-1.15.1-cp36-cp36m-manylinux1_x86_64.whl (13.9MB)\n",
            "\u001b[K    100% |████████████████████████████████| 13.9MB 3.2MB/s \n",
            "\u001b[?25hCollecting six==1.11.0 (from tensorflowjs)\n",
            "  Downloading https://files.pythonhosted.org/packages/67/4b/141a581104b1f6397bfa78ac9d43d8ad29a7ca43ea90a2d863fe3056e86a/six-1.11.0-py2.py3-none-any.whl\n",
            "Collecting tensorflow-hub==0.3.0 (from tensorflowjs)\n",
            "\u001b[?25l  Downloading https://files.pythonhosted.org/packages/9e/f0/3a3ced04c8359e562f1b91918d9bde797c8a916fcfeddc8dc5d673d1be20/tensorflow_hub-0.3.0-py2.py3-none-any.whl (73kB)\n",
            "\u001b[K    100% |████████████████████████████████| 81kB 31.0MB/s \n",
            "\u001b[?25hRequirement already satisfied: keras==2.2.4 in /usr/local/lib/python3.6/dist-packages (from tensorflowjs) (2.2.4)\n",
            "Collecting tb-nightly<1.15.0a0,>=1.14.0a0 (from tf-nightly-2.0-preview>=2.0.0.dev20190304->tensorflowjs)\n",
            "\u001b[?25l  Downloading https://files.pythonhosted.org/packages/0e/bd/4c0c1fd31e8d7a6db4b13c7ec3dc7293c4319b134168951a9c9d3f715450/tb_nightly-1.14.0a20190426-py3-none-any.whl (3.1MB)\n",
            "\u001b[K    100% |████████████████████████████████| 3.1MB 15.0MB/s \n",
            "\u001b[?25hRequirement already satisfied: protobuf>=3.6.1 in /usr/local/lib/python3.6/dist-packages (from tf-nightly-2.0-preview>=2.0.0.dev20190304->tensorflowjs) (3.7.1)\n",
            "Requirement already satisfied: astor>=0.6.0 in /usr/local/lib/python3.6/dist-packages (from tf-nightly-2.0-preview>=2.0.0.dev20190304->tensorflowjs) (0.7.1)\n",
            "Collecting google-pasta>=0.1.2 (from tf-nightly-2.0-preview>=2.0.0.dev20190304->tensorflowjs)\n",
            "\u001b[?25l  Downloading https://files.pythonhosted.org/packages/64/bb/f1bbc131d6294baa6085a222d29abadd012696b73dcbf8cf1bf56b9f082a/google_pasta-0.1.5-py3-none-any.whl (51kB)\n",
            "\u001b[K    100% |████████████████████████████████| 61kB 32.6MB/s \n",
            "\u001b[?25hRequirement already satisfied: keras-applications>=1.0.6 in /usr/local/lib/python3.6/dist-packages (from tf-nightly-2.0-preview>=2.0.0.dev20190304->tensorflowjs) (1.0.7)\n",
            "Collecting tensorflow-estimator-2.0-preview (from tf-nightly-2.0-preview>=2.0.0.dev20190304->tensorflowjs)\n",
            "\u001b[?25l  Downloading https://files.pythonhosted.org/packages/81/47/1a7a31baa3e34b33bc241014a6295588019e2922e3546a891e65f7671b8d/tensorflow_estimator_2.0_preview-1.14.0.dev2019042600-py2.py3-none-any.whl (421kB)\n",
            "\u001b[K    100% |████████████████████████████████| 430kB 22.6MB/s \n",
            "\u001b[?25hRequirement already satisfied: wheel>=0.26 in /usr/local/lib/python3.6/dist-packages (from tf-nightly-2.0-preview>=2.0.0.dev20190304->tensorflowjs) (0.33.1)\n",
            "Requirement already satisfied: termcolor>=1.1.0 in /usr/local/lib/python3.6/dist-packages (from tf-nightly-2.0-preview>=2.0.0.dev20190304->tensorflowjs) (1.1.0)\n",
            "Requirement already satisfied: keras-preprocessing>=1.0.5 in /usr/local/lib/python3.6/dist-packages (from tf-nightly-2.0-preview>=2.0.0.dev20190304->tensorflowjs) (1.0.9)\n",
            "Collecting wrapt>=1.11.1 (from tf-nightly-2.0-preview>=2.0.0.dev20190304->tensorflowjs)\n",
            "  Downloading https://files.pythonhosted.org/packages/67/b2/0f71ca90b0ade7fad27e3d20327c996c6252a2ffe88f50a95bba7434eda9/wrapt-1.11.1.tar.gz\n",
            "Requirement already satisfied: gast>=0.2.0 in /usr/local/lib/python3.6/dist-packages (from tf-nightly-2.0-preview>=2.0.0.dev20190304->tensorflowjs) (0.2.2)\n",
            "Requirement already satisfied: grpcio>=1.8.6 in /usr/local/lib/python3.6/dist-packages (from tf-nightly-2.0-preview>=2.0.0.dev20190304->tensorflowjs) (1.15.0)\n",
            "Requirement already satisfied: absl-py>=0.7.0 in /usr/local/lib/python3.6/dist-packages (from tf-nightly-2.0-preview>=2.0.0.dev20190304->tensorflowjs) (0.7.1)\n",
            "Requirement already satisfied: pyyaml in /usr/local/lib/python3.6/dist-packages (from keras==2.2.4->tensorflowjs) (3.13)\n",
            "Requirement already satisfied: scipy>=0.14 in /usr/local/lib/python3.6/dist-packages (from keras==2.2.4->tensorflowjs) (1.2.1)\n",
            "Requirement already satisfied: werkzeug>=0.11.15 in /usr/local/lib/python3.6/dist-packages (from tb-nightly<1.15.0a0,>=1.14.0a0->tf-nightly-2.0-preview>=2.0.0.dev20190304->tensorflowjs) (0.15.2)\n",
            "Requirement already satisfied: markdown>=2.6.8 in /usr/local/lib/python3.6/dist-packages (from tb-nightly<1.15.0a0,>=1.14.0a0->tf-nightly-2.0-preview>=2.0.0.dev20190304->tensorflowjs) (3.1)\n",
            "Requirement already satisfied: setuptools in /usr/local/lib/python3.6/dist-packages (from protobuf>=3.6.1->tf-nightly-2.0-preview>=2.0.0.dev20190304->tensorflowjs) (40.9.0)\n",
            "Building wheels for collected packages: wrapt\n",
            "  Building wheel for wrapt (setup.py) ... \u001b[?25ldone\n",
            "\u001b[?25h  Stored in directory: /root/.cache/pip/wheels/89/67/41/63cbf0f6ac0a6156588b9587be4db5565f8c6d8ccef98202fc\n",
            "Successfully built wrapt\n",
            "\u001b[31mthinc 6.12.1 has requirement wrapt<1.11.0,>=1.10.0, but you'll have wrapt 1.11.1 which is incompatible.\u001b[0m\n",
            "\u001b[31ms3fs 0.2.1 has requirement six>=1.12.0, but you'll have six 1.11.0 which is incompatible.\u001b[0m\n",
            "\u001b[31mjupyter-console 6.0.0 has requirement prompt-toolkit<2.1.0,>=2.0.0, but you'll have prompt-toolkit 1.0.16 which is incompatible.\u001b[0m\n",
            "\u001b[31mgoogle-colab 1.0.0 has requirement six~=1.12.0, but you'll have six 1.11.0 which is incompatible.\u001b[0m\n",
            "\u001b[31mdatascience 0.10.6 has requirement folium==0.2.1, but you'll have folium 0.8.3 which is incompatible.\u001b[0m\n",
            "\u001b[31malbumentations 0.1.12 has requirement imgaug<0.2.7,>=0.2.5, but you'll have imgaug 0.2.8 which is incompatible.\u001b[0m\n",
            "Installing collected packages: six, numpy, tb-nightly, google-pasta, tensorflow-estimator-2.0-preview, wrapt, tf-nightly-2.0-preview, tensorflow-hub, tensorflowjs\n",
            "  Found existing installation: six 1.12.0\n",
            "    Uninstalling six-1.12.0:\n",
            "      Successfully uninstalled six-1.12.0\n",
            "  Found existing installation: numpy 1.16.3\n",
            "    Uninstalling numpy-1.16.3:\n",
            "      Successfully uninstalled numpy-1.16.3\n",
            "  Found existing installation: wrapt 1.10.11\n",
            "    Uninstalling wrapt-1.10.11:\n",
            "      Successfully uninstalled wrapt-1.10.11\n",
            "  Found existing installation: tensorflow-hub 0.4.0\n",
            "    Uninstalling tensorflow-hub-0.4.0:\n",
            "      Successfully uninstalled tensorflow-hub-0.4.0\n",
            "Successfully installed google-pasta-0.1.5 numpy-1.15.1 six-1.11.0 tb-nightly-1.14.0a20190426 tensorflow-estimator-2.0-preview-1.14.0.dev2019042600 tensorflow-hub-0.3.0 tensorflowjs-1.0.1 tf-nightly-2.0-preview-2.0.0.dev20190426 wrapt-1.11.1\n"
          ],
          "name": "stdout"
        },
        {
          "output_type": "display_data",
          "data": {
            "application/vnd.colab-display-data+json": {
              "pip_warning": {
                "packages": [
                  "numpy",
                  "six"
                ]
              }
            }
          },
          "metadata": {
            "tags": []
          }
        }
      ]
    },
    {
      "metadata": {
        "id": "rjf9ZYItm2Yx",
        "colab_type": "text"
      },
      "cell_type": "markdown",
      "source": [
        "Packages required for the notebook"
      ]
    },
    {
      "metadata": {
        "id": "twu1gnJ0h8_G",
        "colab_type": "code",
        "outputId": "907c5974-0521-4904-db42-bb665b1abf70",
        "colab": {
          "base_uri": "https://localhost:8080/",
          "height": 68
        }
      },
      "cell_type": "code",
      "source": [
        "import tensorflow as tf\n",
        "import tensorflowjs as tfjs\n",
        "from tensorflow import keras\n",
        "\n",
        "print('tensorflow', tf.__version__)\n",
        "print('tensorflowjs', tfjs.__version__)\n",
        "print('keras', keras.__version__)"
      ],
      "execution_count": 55,
      "outputs": [
        {
          "output_type": "stream",
          "text": [
            "tensorflow 2.0.0-dev20190426\n",
            "tensorflowjs 1.0.1\n",
            "keras 2.2.4-tf\n"
          ],
          "name": "stdout"
        }
      ]
    },
    {
      "metadata": {
        "id": "aZeVYmBiMEn0",
        "colab_type": "text"
      },
      "cell_type": "markdown",
      "source": [
        "While this notebook was written the versions used were - \n",
        "```\n",
        "tensorflow 2.0.0-dev20190412\n",
        "tensorflowjs 1.0.1\n",
        "keras 2.2.4-tf\n",
        "```"
      ]
    },
    {
      "metadata": {
        "id": "ZeTyjXn0ny-V",
        "colab_type": "text"
      },
      "cell_type": "markdown",
      "source": [
        "### Constants"
      ]
    },
    {
      "metadata": {
        "id": "DkSnKIQNnyVj",
        "colab_type": "code",
        "colab": {}
      },
      "cell_type": "code",
      "source": [
        "IMAGE_WIDTH = 28\n",
        "IMAGE_HEIGHT = 28\n",
        "IMAGE_CHANNELS = 1\n",
        "\n",
        "NUM_EPOCHS = 5"
      ],
      "execution_count": 0,
      "outputs": []
    },
    {
      "metadata": {
        "id": "15udzoCYnMDd",
        "colab_type": "text"
      },
      "cell_type": "markdown",
      "source": [
        "## The model\n",
        "\n",
        "Let's create the model"
      ]
    },
    {
      "metadata": {
        "id": "ktSJlZx2nh4d",
        "colab_type": "code",
        "colab": {}
      },
      "cell_type": "code",
      "source": [
        "def get_model():\n",
        "    model = keras.Sequential()\n",
        "    \n",
        "    # In the first layer of out convolutional neural network we have\n",
        "    # to specify the input shape. Then we specify some paramaters for\n",
        "    # the convolution operation that takes place in this layer.\n",
        "    model.add(keras.layers.Conv2D(\n",
        "        input_shape=(IMAGE_WIDTH, IMAGE_HEIGHT, IMAGE_CHANNELS),\n",
        "        kernel_size=5,\n",
        "        filters=16,\n",
        "        strides=1,\n",
        "        activation='relu',\n",
        "        kernel_initializer='VarianceScaling',\n",
        "        kernel_regularizer=keras.regularizers.l2(0.001)\n",
        "    ))\n",
        "    \n",
        "    # The MaxPooling layer acts as a sort of downsampling using max values\n",
        "    # in a region instead of averaging.\n",
        "    model.add(keras.layers.MaxPool2D(\n",
        "        pool_size=(2,2), \n",
        "        strides=(2,2)\n",
        "    ))\n",
        "    \n",
        "    model.add(keras.layers.Dropout(0.05))\n",
        "    \n",
        "    # Repeat another Conv2D + MazPooling stack.\n",
        "    # Note that we have more filters in the convolution.\n",
        "    model.add(keras.layers.Conv2D(\n",
        "        kernel_size=5,\n",
        "        filters=8,\n",
        "        strides=1,\n",
        "        activation='relu',\n",
        "        kernel_initializer='VarianceScaling',\n",
        "        kernel_regularizer=keras.regularizers.l2(0.001)\n",
        "    ))\n",
        "    \n",
        "    model.add(keras.layers.MaxPool2D(\n",
        "        pool_size=(2,2),\n",
        "        strides=(2,2)\n",
        "    ))\n",
        "    \n",
        "    model.add(keras.layers.Dropout(0.05))\n",
        "    \n",
        "    # Now we flatten the output from the 2D filters into a 1D vector to prepare\n",
        "    # it for input into our last layer. This is common practice when feeding\n",
        "    # higher dimensional data to a final classification output layer.\n",
        "    model.add(keras.layers.Flatten())\n",
        "    \n",
        "    \n",
        "    # Our last layer is a dense layer which has 10 output units, one for each\n",
        "    # output class (i.e. 0, 1, 2, 3, 4, 5, 6, 7, 8, 9).\n",
        "    NUM_OUTPUT_CLASSES = 10;\n",
        "    model.add(keras.layers.Dense(\n",
        "        units=NUM_OUTPUT_CLASSES,\n",
        "        activation='softmax',\n",
        "        kernel_initializer='VarianceScaling',\n",
        "        kernel_regularizer=keras.regularizers.l2(0.001)\n",
        "    ))\n",
        "    \n",
        "    \n",
        "    # Choose an optimizer, loss function and accuracy matric,\n",
        "    # then compile and return the model\n",
        "    optimizer = keras.optimizers.Adam();\n",
        "    model.compile(\n",
        "        optimizer=optimizer,\n",
        "        loss='categorical_crossentropy',\n",
        "        metrics=['accuracy']\n",
        "    )\n",
        "    \n",
        "    return model\n"
      ],
      "execution_count": 0,
      "outputs": []
    },
    {
      "metadata": {
        "id": "RQxPleS6PLXf",
        "colab_type": "code",
        "colab": {}
      },
      "cell_type": "code",
      "source": [
        "?? keras.callbacks.History"
      ],
      "execution_count": 0,
      "outputs": []
    },
    {
      "metadata": {
        "id": "EAaB2Hxf495N",
        "colab_type": "text"
      },
      "cell_type": "markdown",
      "source": [
        "## Train the model"
      ]
    },
    {
      "metadata": {
        "id": "pBn_KbQXFbn6",
        "colab_type": "text"
      },
      "cell_type": "markdown",
      "source": [
        "### Model Selection"
      ]
    },
    {
      "metadata": {
        "id": "NrvHkr1cFt31",
        "colab_type": "text"
      },
      "cell_type": "markdown",
      "source": [
        "#### K-Fold"
      ]
    },
    {
      "metadata": {
        "id": "DrMF8vYtnKGb",
        "colab_type": "code",
        "outputId": "7da4525f-62d0-415d-88b3-6788bc2b880f",
        "colab": {
          "base_uri": "https://localhost:8080/",
          "height": 726
        }
      },
      "cell_type": "code",
      "source": [
        "from keras.datasets import mnist\n",
        "from keras.utils import to_categorical\n",
        "import numpy as np\n",
        "\n",
        "BATCH_SIZE = 64\n",
        "\n",
        "NUM_TRAIN_SAMPLES = 60000\n",
        "NUM_TEST_SAMPLES = 10000\n",
        "\n",
        "K_FOLD = 3\n",
        "NUM_VALIDATION_SAMPLES = NUM_TRAIN_SAMPLES // K_FOLD\n",
        "\n",
        "train, test = mnist.load_data()\n",
        "\n",
        "x_train, y_train = train\n",
        "x_test, y_test = test\n",
        "\n",
        "shuffled_indices = np.arange(x_train.shape[0])\n",
        "np.random.shuffle(shuffled_indices)\n",
        "\n",
        "x_train = x_train[shuffled_indices]\n",
        "y_train = y_train[shuffled_indices]\n",
        "\n",
        "x_train = x_train.reshape((NUM_TRAIN_SAMPLES, IMAGE_WIDTH, IMAGE_HEIGHT, IMAGE_CHANNELS))\n",
        "x_train = x_train.astype('float32') / 255\n",
        "x_test = x_test.reshape((NUM_TEST_SAMPLES, IMAGE_WIDTH, IMAGE_HEIGHT, IMAGE_CHANNELS))\n",
        "x_test = x_test.astype('float32') / 255\n",
        "\n",
        "\n",
        "y_train = to_categorical(y_train)\n",
        "y_test = to_categorical(y_test)\n",
        "\n",
        "validation_scores = []\n",
        "\n",
        "for fold in range(K_FOLD):\n",
        "  x_val = x_train[NUM_VALIDATION_SAMPLES * fold: NUM_VALIDATION_SAMPLES * (fold+1)]\n",
        "  y_val = y_train[NUM_VALIDATION_SAMPLES * fold: NUM_VALIDATION_SAMPLES * (fold+1)]\n",
        "  \n",
        "  x_train_fld = np.concatenate((x_train[:NUM_VALIDATION_SAMPLES * fold], x_train[NUM_VALIDATION_SAMPLES * (fold+1):]))\n",
        "  y_train_fld = np.concatenate((y_train[:NUM_VALIDATION_SAMPLES * fold], y_train[NUM_VALIDATION_SAMPLES * (fold+1):]))\n",
        "  \n",
        "  model = get_model()\n",
        "  model.fit(\n",
        "      x_train_fld,\n",
        "      y_train_fld,\n",
        "      batch_size=BATCH_SIZE,\n",
        "      epochs=NUM_EPOCHS,\n",
        "      shuffle=True,\n",
        "      callbacks=None\n",
        "  )\n",
        "  scores = model.evaluate(x_val, y_val)\n",
        "  validation_scores.append(scores)\n",
        "  \n",
        "np.average(validation_scores, axis=0)\n"
      ],
      "execution_count": 0,
      "outputs": [
        {
          "output_type": "stream",
          "text": [
            "Downloading data from https://s3.amazonaws.com/img-datasets/mnist.npz\n",
            "\r    8192/11490434 [..............................] - ETA: 0s"
          ],
          "name": "stdout"
        },
        {
          "output_type": "stream",
          "text": [
            "Using TensorFlow backend.\n"
          ],
          "name": "stderr"
        },
        {
          "output_type": "stream",
          "text": [
            "11493376/11490434 [==============================] - 0s 0us/step\n",
            "Epoch 1/5\n",
            "40000/40000 [==============================] - 15s 381us/sample - loss: 3.4864 - accuracy: 0.2545\n",
            "Epoch 2/5\n",
            "40000/40000 [==============================] - 15s 384us/sample - loss: 1.4433 - accuracy: 0.5096\n",
            "Epoch 3/5\n",
            "40000/40000 [==============================] - 15s 383us/sample - loss: 0.5813 - accuracy: 0.8330\n",
            "Epoch 4/5\n",
            "40000/40000 [==============================] - 17s 430us/sample - loss: 0.4094 - accuracy: 0.8850\n",
            "Epoch 5/5\n",
            "40000/40000 [==============================] - 15s 379us/sample - loss: 0.3393 - accuracy: 0.9063\n",
            "20000/20000 [==============================] - 3s 138us/sample - loss: 0.2571 - accuracy: 0.9330\n",
            "Epoch 1/5\n",
            "40000/40000 [==============================] - 15s 385us/sample - loss: 3.1276 - accuracy: 0.3072\n",
            "Epoch 2/5\n",
            "40000/40000 [==============================] - 15s 385us/sample - loss: 0.8583 - accuracy: 0.7247\n",
            "Epoch 3/5\n",
            "40000/40000 [==============================] - 15s 381us/sample - loss: 0.4600 - accuracy: 0.8654\n",
            "Epoch 4/5\n",
            "40000/40000 [==============================] - 17s 434us/sample - loss: 0.3439 - accuracy: 0.9032\n",
            "Epoch 5/5\n",
            "40000/40000 [==============================] - 16s 394us/sample - loss: 0.2721 - accuracy: 0.9258\n",
            "20000/20000 [==============================] - 4s 183us/sample - loss: 0.1954 - accuracy: 0.9491\n",
            "Epoch 1/5\n",
            "40000/40000 [==============================] - 16s 391us/sample - loss: 3.6697 - accuracy: 0.2382\n",
            "Epoch 2/5\n",
            "40000/40000 [==============================] - 15s 380us/sample - loss: 1.3219 - accuracy: 0.5789\n",
            "Epoch 3/5\n",
            "40000/40000 [==============================] - 16s 402us/sample - loss: 0.5811 - accuracy: 0.8270\n",
            "Epoch 4/5\n",
            "40000/40000 [==============================] - 16s 406us/sample - loss: 0.3741 - accuracy: 0.8942\n",
            "Epoch 5/5\n",
            "40000/40000 [==============================] - 15s 376us/sample - loss: 0.2685 - accuracy: 0.9273\n",
            "20000/20000 [==============================] - 3s 138us/sample - loss: 0.1964 - accuracy: 0.9484\n"
          ],
          "name": "stdout"
        },
        {
          "output_type": "execute_result",
          "data": {
            "text/plain": [
              "array([0.21627314, 0.94350002])"
            ]
          },
          "metadata": {
            "tags": []
          },
          "execution_count": 7
        }
      ]
    },
    {
      "metadata": {
        "id": "FxH_f5ZhF0AX",
        "colab_type": "text"
      },
      "cell_type": "markdown",
      "source": [
        "#### Epoch selection"
      ]
    },
    {
      "metadata": {
        "id": "Es-T0Zs4Fya9",
        "colab_type": "code",
        "outputId": "d9fabc9b-c25b-402c-c815-39b6788774f1",
        "colab": {
          "base_uri": "https://localhost:8080/",
          "height": 742
        }
      },
      "cell_type": "code",
      "source": [
        "from keras.datasets import mnist\n",
        "from keras.utils import to_categorical\n",
        "import numpy as np\n",
        "\n",
        "BATCH_SIZE = 64\n",
        "\n",
        "NUM_TRAIN_SAMPLES = 60000\n",
        "NUM_TEST_SAMPLES = 10000\n",
        "\n",
        "NUM_VALIDATION_SAMPLES = NUM_TRAIN_SAMPLES * 10 // 100 # 10% of training samples\n",
        "\n",
        "MAX_EPOCHS = 20\n",
        "\n",
        "train, test = mnist.load_data()\n",
        "\n",
        "x_train, y_train = train\n",
        "x_test, y_test = test\n",
        "\n",
        "shuffled_indices = np.arange(x_train.shape[0])\n",
        "np.random.shuffle(shuffled_indices)\n",
        "\n",
        "x_train = x_train[shuffled_indices]\n",
        "y_train = y_train[shuffled_indices]\n",
        "\n",
        "x_train = x_train.reshape((NUM_TRAIN_SAMPLES, IMAGE_WIDTH, IMAGE_HEIGHT, IMAGE_CHANNELS))\n",
        "x_train = x_train.astype('float32') / 255\n",
        "x_test = x_test.reshape((NUM_TEST_SAMPLES, IMAGE_WIDTH, IMAGE_HEIGHT, IMAGE_CHANNELS))\n",
        "x_test = x_test.astype('float32') / 255\n",
        "\n",
        "\n",
        "y_train = to_categorical(y_train)\n",
        "y_test = to_categorical(y_test)\n",
        "\n",
        "validation_scores = []\n",
        "\n",
        "\n",
        "x_val = x_train[:NUM_VALIDATION_SAMPLES]\n",
        "y_val = y_train[:NUM_VALIDATION_SAMPLES]\n",
        "\n",
        "x_train_ = x_train[NUM_VALIDATION_SAMPLES:]\n",
        "y_train_ = y_train[NUM_VALIDATION_SAMPLES:]\n",
        "\n",
        "model = get_model()\n",
        "history = model.fit(\n",
        "    x_train_,\n",
        "    y_train_,\n",
        "    validation_data=(x_val, y_val),\n",
        "    batch_size=BATCH_SIZE,\n",
        "    epochs=MAX_EPOCHS,\n",
        "    shuffle=True,\n",
        "    callbacks=None\n",
        ")\n",
        "\n",
        "  "
      ],
      "execution_count": 63,
      "outputs": [
        {
          "output_type": "stream",
          "text": [
            "Train on 54000 samples, validate on 6000 samples\n",
            "Epoch 1/20\n",
            "54000/54000 [==============================] - 24s 443us/sample - loss: 0.4287 - accuracy: 0.8788 - val_loss: 0.1881 - val_accuracy: 0.9563\n",
            "Epoch 2/20\n",
            "54000/54000 [==============================] - 22s 412us/sample - loss: 0.1833 - accuracy: 0.9599 - val_loss: 0.1564 - val_accuracy: 0.9697\n",
            "Epoch 3/20\n",
            "54000/54000 [==============================] - 25s 457us/sample - loss: 0.1578 - accuracy: 0.9685 - val_loss: 0.1539 - val_accuracy: 0.9683\n",
            "Epoch 4/20\n",
            "54000/54000 [==============================] - 22s 409us/sample - loss: 0.1427 - accuracy: 0.9721 - val_loss: 0.1350 - val_accuracy: 0.9737\n",
            "Epoch 5/20\n",
            "54000/54000 [==============================] - 22s 413us/sample - loss: 0.1348 - accuracy: 0.9748 - val_loss: 0.1332 - val_accuracy: 0.9763\n",
            "Epoch 6/20\n",
            "54000/54000 [==============================] - 22s 413us/sample - loss: 0.1279 - accuracy: 0.9766 - val_loss: 0.1208 - val_accuracy: 0.9797\n",
            "Epoch 7/20\n",
            "54000/54000 [==============================] - 24s 452us/sample - loss: 0.1248 - accuracy: 0.9773 - val_loss: 0.1193 - val_accuracy: 0.9808\n",
            "Epoch 8/20\n",
            "54000/54000 [==============================] - 22s 405us/sample - loss: 0.1219 - accuracy: 0.9784 - val_loss: 0.1175 - val_accuracy: 0.9785\n",
            "Epoch 9/20\n",
            "54000/54000 [==============================] - 22s 411us/sample - loss: 0.1198 - accuracy: 0.9790 - val_loss: 0.1113 - val_accuracy: 0.9817\n",
            "Epoch 10/20\n",
            "54000/54000 [==============================] - 24s 440us/sample - loss: 0.1190 - accuracy: 0.9794 - val_loss: 0.1117 - val_accuracy: 0.9815\n",
            "Epoch 11/20\n",
            "54000/54000 [==============================] - 22s 407us/sample - loss: 0.1144 - accuracy: 0.9808 - val_loss: 0.1184 - val_accuracy: 0.9802\n",
            "Epoch 12/20\n",
            "54000/54000 [==============================] - 22s 402us/sample - loss: 0.1135 - accuracy: 0.9805 - val_loss: 0.1143 - val_accuracy: 0.9805\n",
            "Epoch 13/20\n",
            "54000/54000 [==============================] - 22s 407us/sample - loss: 0.1132 - accuracy: 0.9813 - val_loss: 0.1121 - val_accuracy: 0.9813\n",
            "Epoch 14/20\n",
            "54000/54000 [==============================] - 26s 479us/sample - loss: 0.1118 - accuracy: 0.9820 - val_loss: 0.1100 - val_accuracy: 0.9818\n",
            "Epoch 15/20\n",
            "54000/54000 [==============================] - 22s 407us/sample - loss: 0.1112 - accuracy: 0.9815 - val_loss: 0.1077 - val_accuracy: 0.9840\n",
            "Epoch 16/20\n",
            "54000/54000 [==============================] - 22s 409us/sample - loss: 0.1097 - accuracy: 0.9822 - val_loss: 0.1085 - val_accuracy: 0.9828\n",
            "Epoch 17/20\n",
            "54000/54000 [==============================] - 24s 442us/sample - loss: 0.1093 - accuracy: 0.9825 - val_loss: 0.1077 - val_accuracy: 0.9830\n",
            "Epoch 18/20\n",
            "54000/54000 [==============================] - 22s 412us/sample - loss: 0.1078 - accuracy: 0.9832 - val_loss: 0.1078 - val_accuracy: 0.9830\n",
            "Epoch 19/20\n",
            "54000/54000 [==============================] - 22s 405us/sample - loss: 0.1082 - accuracy: 0.9830 - val_loss: 0.1073 - val_accuracy: 0.9818\n",
            "Epoch 20/20\n",
            "54000/54000 [==============================] - 22s 400us/sample - loss: 0.1084 - accuracy: 0.9827 - val_loss: 0.1045 - val_accuracy: 0.9842\n"
          ],
          "name": "stdout"
        }
      ]
    },
    {
      "metadata": {
        "id": "6NPlnYMcTwJh",
        "colab_type": "code",
        "colab": {}
      },
      "cell_type": "code",
      "source": [
        "model.save(\"cpt-2\")"
      ],
      "execution_count": 0,
      "outputs": []
    },
    {
      "metadata": {
        "id": "4j0icVgGP0Is",
        "colab_type": "code",
        "outputId": "cb165c0a-15ec-4258-c7e1-f130b2b90c77",
        "colab": {
          "base_uri": "https://localhost:8080/",
          "height": 1020
        }
      },
      "cell_type": "code",
      "source": [
        "history_copy = history.history.copy()\n",
        "\n",
        "history = model.fit(\n",
        "    x_train_,\n",
        "    y_train_,\n",
        "    validation_data=(x_val, y_val),\n",
        "    batch_size=BATCH_SIZE,\n",
        "    epochs=MAX_EPOCHS,\n",
        "    shuffle=True,\n",
        "    callbacks=None\n",
        ")\n",
        "\n"
      ],
      "execution_count": 0,
      "outputs": [
        {
          "output_type": "stream",
          "text": [
            "Train on 54000 samples, validate on 6000 samples\n",
            "Epoch 1/10\n",
            "54000/54000 [==============================] - 20s 378us/sample - loss: 0.1040 - accuracy: 0.9736 - val_loss: 0.0822 - val_accuracy: 0.9812\n",
            "Epoch 2/10\n",
            "54000/54000 [==============================] - 22s 414us/sample - loss: 0.0965 - accuracy: 0.9755 - val_loss: 0.0816 - val_accuracy: 0.9798\n",
            "Epoch 3/10\n",
            "54000/54000 [==============================] - 20s 375us/sample - loss: 0.0908 - accuracy: 0.9776 - val_loss: 0.0608 - val_accuracy: 0.9850\n",
            "Epoch 4/10\n",
            "54000/54000 [==============================] - 20s 374us/sample - loss: 0.0883 - accuracy: 0.9782 - val_loss: 0.0700 - val_accuracy: 0.9832\n",
            "Epoch 5/10\n",
            "54000/54000 [==============================] - 21s 388us/sample - loss: 0.0825 - accuracy: 0.9803 - val_loss: 0.0682 - val_accuracy: 0.9833\n",
            "Epoch 6/10\n",
            "54000/54000 [==============================] - 24s 442us/sample - loss: 0.0783 - accuracy: 0.9803 - val_loss: 0.0644 - val_accuracy: 0.9835\n",
            "Epoch 7/10\n",
            "54000/54000 [==============================] - 20s 377us/sample - loss: 0.0771 - accuracy: 0.9815 - val_loss: 0.0730 - val_accuracy: 0.9828\n",
            "Epoch 8/10\n",
            "54000/54000 [==============================] - 20s 379us/sample - loss: 0.0724 - accuracy: 0.9829 - val_loss: 0.0664 - val_accuracy: 0.9840\n",
            "Epoch 9/10\n",
            "54000/54000 [==============================] - 22s 413us/sample - loss: 0.0757 - accuracy: 0.9814 - val_loss: 0.0677 - val_accuracy: 0.9840\n",
            "Epoch 10/10\n",
            "54000/54000 [==============================] - 20s 379us/sample - loss: 0.0694 - accuracy: 0.9842 - val_loss: 0.0689 - val_accuracy: 0.9843\n"
          ],
          "name": "stdout"
        }
      ]
    },
    {
      "metadata": {
        "id": "x5i_RnUYOeGJ",
        "colab_type": "text"
      },
      "cell_type": "markdown",
      "source": [
        "Plot the epoch wise performance"
      ]
    },
    {
      "metadata": {
        "id": "GGAloTsIOHnq",
        "colab_type": "code",
        "outputId": "01a864ba-30f5-4e12-9d0b-c14cbe50796a",
        "colab": {
          "base_uri": "https://localhost:8080/",
          "height": 295
        }
      },
      "cell_type": "code",
      "source": [
        "import matplotlib.pyplot as plt\n",
        "\n",
        "history_dict = history.history\n",
        "loss_values = history_dict['loss']\n",
        "val_loss_values = history_dict['val_loss']\n",
        "\n",
        "epochs = range(1, len(loss_values) + 1)\n",
        "\n",
        "plt.plot(epochs, loss_values, 'bo', label='Training loss')\n",
        "plt.plot(epochs, val_loss_values, 'b', label='Validation loss')\n",
        "plt.title('Training and validation loss')\n",
        "plt.xlabel('Epochs')\n",
        "plt.ylabel('Loss')\n",
        "plt.legend()\n",
        "\n",
        "plt.show()\n"
      ],
      "execution_count": 64,
      "outputs": [
        {
          "output_type": "display_data",
          "data": {
            "image/png": "[encoded data removed]",
            "text/plain": [
              "<Figure size 432x288 with 1 Axes>"
            ]
          },
          "metadata": {
            "tags": []
          }
        }
      ]
    },
    {
      "metadata": {
        "id": "oydEwhpunsdi",
        "colab_type": "text"
      },
      "cell_type": "markdown",
      "source": [
        "### Evaluate on test set"
      ]
    },
    {
      "metadata": {
        "id": "-h_RNkSnnsJF",
        "colab_type": "code",
        "colab": {
          "base_uri": "https://localhost:8080/",
          "height": 51
        },
        "outputId": "3a8b63a9-39f3-4969-a96e-0b83d9d01710"
      },
      "cell_type": "code",
      "source": [
        "model.evaluate(x_test, y_test)"
      ],
      "execution_count": 65,
      "outputs": [
        {
          "output_type": "stream",
          "text": [
            "10000/10000 [==============================] - 2s 179us/sample - loss: 0.0913 - accuracy: 0.9871\n"
          ],
          "name": "stdout"
        },
        {
          "output_type": "execute_result",
          "data": {
            "text/plain": [
              "[0.09131579405069351, 0.9871]"
            ]
          },
          "metadata": {
            "tags": []
          },
          "execution_count": 65
        }
      ]
    },
    {
      "metadata": {
        "id": "PySkMmLIn6X6",
        "colab_type": "code",
        "colab": {
          "base_uri": "https://localhost:8080/",
          "height": 34
        },
        "outputId": "f0d9b34e-9d4b-48af-a0b6-33bbc30fcebb"
      },
      "cell_type": "code",
      "source": [
        "x_test.dtype"
      ],
      "execution_count": 66,
      "outputs": [
        {
          "output_type": "execute_result",
          "data": {
            "text/plain": [
              "dtype('float32')"
            ]
          },
          "metadata": {
            "tags": []
          },
          "execution_count": 66
        }
      ]
    },
    {
      "metadata": {
        "id": "50JLVFzAC_lg",
        "colab_type": "text"
      },
      "cell_type": "markdown",
      "source": [
        "### Run the following code to authenticate/authorize your Google Drive for the purpose of mounting in this virtual machine\n",
        "### we will use this to save the trained model to your GDrive"
      ]
    },
    {
      "metadata": {
        "id": "ftHask3MBwdI",
        "colab_type": "code",
        "outputId": "5645e728-50a0-4dae-82e3-cc5778a7992f",
        "colab": {
          "base_uri": "https://localhost:8080/",
          "height": 34
        }
      },
      "cell_type": "code",
      "source": [
        "# Run this to authenticate/authorize your google drive\n",
        "from google.colab import drive\n",
        "drive.mount('/content/gdrive')"
      ],
      "execution_count": 67,
      "outputs": [
        {
          "output_type": "stream",
          "text": [
            "Drive already mounted at /content/gdrive; to attempt to forcibly remount, call drive.mount(\"/content/gdrive\", force_remount=True).\n"
          ],
          "name": "stdout"
        }
      ]
    },
    {
      "metadata": {
        "id": "LLx_2gZiDQI9",
        "colab_type": "text"
      },
      "cell_type": "markdown",
      "source": [
        "### Save the model"
      ]
    },
    {
      "metadata": {
        "id": "Ii62I4m-jiFH",
        "colab_type": "code",
        "colab": {}
      },
      "cell_type": "code",
      "source": [
        "MODEL_SAVE_PATH_GDRIVE = '/content/gdrive/My Drive/mnist_cnn_tfjs'\n",
        "tfjs.converters.save_keras_model(model, MODEL_SAVE_PATH_GDRIVE)"
      ],
      "execution_count": 0,
      "outputs": []
    },
    {
      "metadata": {
        "id": "uBS1CRtsDSGn",
        "colab_type": "text"
      },
      "cell_type": "markdown",
      "source": [
        "### The trained model is now available in your Google Drive in the location `My Drive/mnist_cnn_tfjs`"
      ]
    }
  ]
}