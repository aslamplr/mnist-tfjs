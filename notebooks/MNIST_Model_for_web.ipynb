{
  "nbformat": 4,
  "nbformat_minor": 0,
  "metadata": {
    "colab": {
      "name": "MNIST_Model_for_web.ipynb",
      "version": "0.3.2",
      "provenance": [],
      "collapsed_sections": []
    },
    "kernelspec": {
      "name": "python3",
      "display_name": "Python 3"
    },
    "accelerator": "GPU"
  },
  "cells": [
    {
      "metadata": {
        "id": "wwA8UssSmJuE",
        "colab_type": "text"
      },
      "cell_type": "markdown",
      "source": [
        "# MNIST Handwritten digit classifier in browser\n",
        "\n",
        "This notebook creates, train and export a model trained in MNIST handwritten digit classifying task, to be imported by tfjs in browser.\n"
      ]
    },
    {
      "metadata": {
        "id": "BsJ7LGe-mmoS",
        "colab_type": "text"
      },
      "cell_type": "markdown",
      "source": [
        "install `tensorflowjs`, which is only required in this notebook for saving the model compatible with `tensorflowjs`"
      ]
    },
    {
      "metadata": {
        "id": "855JDkg9jBMa",
        "colab_type": "code",
        "outputId": "3bbd8e5f-2662-4f95-a177-b436c974f284",
        "colab": {
          "base_uri": "https://localhost:8080/",
          "height": 1211
        }
      },
      "cell_type": "code",
      "source": [
        "!pip install tensorflowjs"
      ],
      "execution_count": 2,
      "outputs": [
        {
          "output_type": "stream",
          "text": [
            "Collecting tensorflowjs\n",
            "  Downloading https://files.pythonhosted.org/packages/79/29/35e1aa467436ff46b98df65a08c49faaedb3429e1c512d1d90fe308040a0/tensorflowjs-1.0.1-py3-none-any.whl\n",
            "Requirement already satisfied: h5py==2.8.0 in /usr/local/lib/python3.6/dist-packages (from tensorflowjs) (2.8.0)\n",
            "Collecting six==1.11.0 (from tensorflowjs)\n",
            "  Downloading https://files.pythonhosted.org/packages/67/4b/141a581104b1f6397bfa78ac9d43d8ad29a7ca43ea90a2d863fe3056e86a/six-1.11.0-py2.py3-none-any.whl\n",
            "Collecting tensorflow-hub==0.3.0 (from tensorflowjs)\n",
            "\u001b[?25l  Downloading https://files.pythonhosted.org/packages/9e/f0/3a3ced04c8359e562f1b91918d9bde797c8a916fcfeddc8dc5d673d1be20/tensorflow_hub-0.3.0-py2.py3-none-any.whl (73kB)\n",
            "\u001b[K    100% |████████████████████████████████| 81kB 7.5MB/s \n",
            "\u001b[?25hCollecting tf-nightly-2.0-preview>=2.0.0.dev20190304 (from tensorflowjs)\n",
            "\u001b[?25l  Downloading https://files.pythonhosted.org/packages/0d/43/0fd24debfa52b8485b078fc7d10a5b760ab61e6975d2e36cb3269a6051b2/tf_nightly_2.0_preview-2.0.0.dev20190427-cp36-cp36m-manylinux1_x86_64.whl (87.1MB)\n",
            "\u001b[K    100% |████████████████████████████████| 87.1MB 590kB/s \n",
            "\u001b[?25hRequirement already satisfied: keras==2.2.4 in /usr/local/lib/python3.6/dist-packages (from tensorflowjs) (2.2.4)\n",
            "Collecting numpy==1.15.1 (from tensorflowjs)\n",
            "\u001b[?25l  Downloading https://files.pythonhosted.org/packages/fe/94/7049fed8373c52839c8cde619acaf2c9b83082b935e5aa8c0fa27a4a8bcc/numpy-1.15.1-cp36-cp36m-manylinux1_x86_64.whl (13.9MB)\n",
            "\u001b[K    100% |████████████████████████████████| 13.9MB 4.0MB/s \n",
            "\u001b[?25hRequirement already satisfied: protobuf>=3.4.0 in /usr/local/lib/python3.6/dist-packages (from tensorflow-hub==0.3.0->tensorflowjs) (3.7.1)\n",
            "Requirement already satisfied: astor>=0.6.0 in /usr/local/lib/python3.6/dist-packages (from tf-nightly-2.0-preview>=2.0.0.dev20190304->tensorflowjs) (0.7.1)\n",
            "Requirement already satisfied: grpcio>=1.8.6 in /usr/local/lib/python3.6/dist-packages (from tf-nightly-2.0-preview>=2.0.0.dev20190304->tensorflowjs) (1.15.0)\n",
            "Requirement already satisfied: termcolor>=1.1.0 in /usr/local/lib/python3.6/dist-packages (from tf-nightly-2.0-preview>=2.0.0.dev20190304->tensorflowjs) (1.1.0)\n",
            "Requirement already satisfied: keras-applications>=1.0.6 in /usr/local/lib/python3.6/dist-packages (from tf-nightly-2.0-preview>=2.0.0.dev20190304->tensorflowjs) (1.0.7)\n",
            "Collecting tensorflow-estimator-2.0-preview (from tf-nightly-2.0-preview>=2.0.0.dev20190304->tensorflowjs)\n",
            "\u001b[?25l  Downloading https://files.pythonhosted.org/packages/ee/65/b063305deef778891c2a43f93f2ed38445e121c9496aa5f99b9be46acc7c/tensorflow_estimator_2.0_preview-1.14.0.dev2019042700-py2.py3-none-any.whl (426kB)\n",
            "\u001b[K    100% |████████████████████████████████| 430kB 23.1MB/s \n",
            "\u001b[?25hRequirement already satisfied: wheel>=0.26 in /usr/local/lib/python3.6/dist-packages (from tf-nightly-2.0-preview>=2.0.0.dev20190304->tensorflowjs) (0.33.1)\n",
            "Collecting wrapt>=1.11.1 (from tf-nightly-2.0-preview>=2.0.0.dev20190304->tensorflowjs)\n",
            "  Downloading https://files.pythonhosted.org/packages/67/b2/0f71ca90b0ade7fad27e3d20327c996c6252a2ffe88f50a95bba7434eda9/wrapt-1.11.1.tar.gz\n",
            "Requirement already satisfied: absl-py>=0.7.0 in /usr/local/lib/python3.6/dist-packages (from tf-nightly-2.0-preview>=2.0.0.dev20190304->tensorflowjs) (0.7.1)\n",
            "Requirement already satisfied: gast>=0.2.0 in /usr/local/lib/python3.6/dist-packages (from tf-nightly-2.0-preview>=2.0.0.dev20190304->tensorflowjs) (0.2.2)\n",
            "Collecting google-pasta>=0.1.2 (from tf-nightly-2.0-preview>=2.0.0.dev20190304->tensorflowjs)\n",
            "\u001b[?25l  Downloading https://files.pythonhosted.org/packages/64/bb/f1bbc131d6294baa6085a222d29abadd012696b73dcbf8cf1bf56b9f082a/google_pasta-0.1.5-py3-none-any.whl (51kB)\n",
            "\u001b[K    100% |████████████████████████████████| 61kB 27.2MB/s \n",
            "\u001b[?25hCollecting tb-nightly<1.15.0a0,>=1.14.0a0 (from tf-nightly-2.0-preview>=2.0.0.dev20190304->tensorflowjs)\n",
            "\u001b[?25l  Downloading https://files.pythonhosted.org/packages/d8/c6/e699c210a72660744a36e7f24b4a5a2bf798ce27d009a7f48050a620569f/tb_nightly-1.14.0a20190427-py3-none-any.whl (3.1MB)\n",
            "\u001b[K    100% |████████████████████████████████| 3.1MB 9.9MB/s \n",
            "\u001b[?25hRequirement already satisfied: keras-preprocessing>=1.0.5 in /usr/local/lib/python3.6/dist-packages (from tf-nightly-2.0-preview>=2.0.0.dev20190304->tensorflowjs) (1.0.9)\n",
            "Requirement already satisfied: scipy>=0.14 in /usr/local/lib/python3.6/dist-packages (from keras==2.2.4->tensorflowjs) (1.2.1)\n",
            "Requirement already satisfied: pyyaml in /usr/local/lib/python3.6/dist-packages (from keras==2.2.4->tensorflowjs) (3.13)\n",
            "Requirement already satisfied: setuptools in /usr/local/lib/python3.6/dist-packages (from protobuf>=3.4.0->tensorflow-hub==0.3.0->tensorflowjs) (40.9.0)\n",
            "Requirement already satisfied: markdown>=2.6.8 in /usr/local/lib/python3.6/dist-packages (from tb-nightly<1.15.0a0,>=1.14.0a0->tf-nightly-2.0-preview>=2.0.0.dev20190304->tensorflowjs) (3.1)\n",
            "Requirement already satisfied: werkzeug>=0.11.15 in /usr/local/lib/python3.6/dist-packages (from tb-nightly<1.15.0a0,>=1.14.0a0->tf-nightly-2.0-preview>=2.0.0.dev20190304->tensorflowjs) (0.15.2)\n",
            "Building wheels for collected packages: wrapt\n",
            "  Building wheel for wrapt (setup.py) ... \u001b[?25ldone\n",
            "\u001b[?25h  Stored in directory: /root/.cache/pip/wheels/89/67/41/63cbf0f6ac0a6156588b9587be4db5565f8c6d8ccef98202fc\n",
            "Successfully built wrapt\n",
            "\u001b[31mthinc 6.12.1 has requirement wrapt<1.11.0,>=1.10.0, but you'll have wrapt 1.11.1 which is incompatible.\u001b[0m\n",
            "\u001b[31ms3fs 0.2.1 has requirement six>=1.12.0, but you'll have six 1.11.0 which is incompatible.\u001b[0m\n",
            "\u001b[31mjupyter-console 6.0.0 has requirement prompt-toolkit<2.1.0,>=2.0.0, but you'll have prompt-toolkit 1.0.16 which is incompatible.\u001b[0m\n",
            "\u001b[31mgoogle-colab 1.0.0 has requirement six~=1.12.0, but you'll have six 1.11.0 which is incompatible.\u001b[0m\n",
            "\u001b[31mdatascience 0.10.6 has requirement folium==0.2.1, but you'll have folium 0.8.3 which is incompatible.\u001b[0m\n",
            "\u001b[31malbumentations 0.1.12 has requirement imgaug<0.2.7,>=0.2.5, but you'll have imgaug 0.2.8 which is incompatible.\u001b[0m\n",
            "Installing collected packages: six, numpy, tensorflow-hub, tensorflow-estimator-2.0-preview, wrapt, google-pasta, tb-nightly, tf-nightly-2.0-preview, tensorflowjs\n",
            "  Found existing installation: six 1.12.0\n",
            "    Uninstalling six-1.12.0:\n",
            "      Successfully uninstalled six-1.12.0\n",
            "  Found existing installation: numpy 1.16.3\n",
            "    Uninstalling numpy-1.16.3:\n",
            "      Successfully uninstalled numpy-1.16.3\n",
            "  Found existing installation: tensorflow-hub 0.4.0\n",
            "    Uninstalling tensorflow-hub-0.4.0:\n",
            "      Successfully uninstalled tensorflow-hub-0.4.0\n",
            "  Found existing installation: wrapt 1.10.11\n",
            "    Uninstalling wrapt-1.10.11:\n",
            "      Successfully uninstalled wrapt-1.10.11\n",
            "Successfully installed google-pasta-0.1.5 numpy-1.15.1 six-1.11.0 tb-nightly-1.14.0a20190427 tensorflow-estimator-2.0-preview-1.14.0.dev2019042700 tensorflow-hub-0.3.0 tensorflowjs-1.0.1 tf-nightly-2.0-preview-2.0.0.dev20190427 wrapt-1.11.1\n"
          ],
          "name": "stdout"
        },
        {
          "output_type": "display_data",
          "data": {
            "application/vnd.colab-display-data+json": {
              "pip_warning": {
                "packages": [
                  "numpy",
                  "six",
                  "tensorflow",
                  "tensorflow_estimator"
                ]
              }
            }
          },
          "metadata": {
            "tags": []
          }
        }
      ]
    },
    {
      "metadata": {
        "id": "rjf9ZYItm2Yx",
        "colab_type": "text"
      },
      "cell_type": "markdown",
      "source": [
        "Packages required for the notebook"
      ]
    },
    {
      "metadata": {
        "id": "twu1gnJ0h8_G",
        "colab_type": "code",
        "outputId": "1584f9e9-b337-4e9f-8ec6-f1a177ca807a",
        "colab": {
          "base_uri": "https://localhost:8080/",
          "height": 68
        }
      },
      "cell_type": "code",
      "source": [
        "import tensorflow as tf\n",
        "import tensorflowjs as tfjs\n",
        "from tensorflow import keras\n",
        "\n",
        "print('tensorflow', tf.__version__)\n",
        "print('tensorflowjs', tfjs.__version__)\n",
        "print('keras', keras.__version__)"
      ],
      "execution_count": 1,
      "outputs": [
        {
          "output_type": "stream",
          "text": [
            "tensorflow 2.0.0-dev20190427\n",
            "tensorflowjs 1.0.1\n",
            "keras 2.2.4-tf\n"
          ],
          "name": "stdout"
        }
      ]
    },
    {
      "metadata": {
        "id": "aZeVYmBiMEn0",
        "colab_type": "text"
      },
      "cell_type": "markdown",
      "source": [
        "While this notebook was written the versions used were - \n",
        "```\n",
        "tensorflow 2.0.0-dev20190412\n",
        "tensorflowjs 1.0.1\n",
        "keras 2.2.4-tf\n",
        "```"
      ]
    },
    {
      "metadata": {
        "id": "ZeTyjXn0ny-V",
        "colab_type": "text"
      },
      "cell_type": "markdown",
      "source": [
        "### Constants"
      ]
    },
    {
      "metadata": {
        "id": "DkSnKIQNnyVj",
        "colab_type": "code",
        "colab": {}
      },
      "cell_type": "code",
      "source": [
        "IMAGE_WIDTH = 28\n",
        "IMAGE_HEIGHT = 28\n",
        "IMAGE_CHANNELS = 1\n",
        "\n",
        "NUM_EPOCHS = 5"
      ],
      "execution_count": 0,
      "outputs": []
    },
    {
      "metadata": {
        "id": "15udzoCYnMDd",
        "colab_type": "text"
      },
      "cell_type": "markdown",
      "source": [
        "## The model\n",
        "\n",
        "Let's create the model"
      ]
    },
    {
      "metadata": {
        "id": "ktSJlZx2nh4d",
        "colab_type": "code",
        "colab": {}
      },
      "cell_type": "code",
      "source": [
        "def get_model():\n",
        "    model = keras.Sequential()\n",
        "    \n",
        "    # In the first layer of out convolutional neural network we have\n",
        "    # to specify the input shape. Then we specify some paramaters for\n",
        "    # the convolution operation that takes place in this layer.\n",
        "    model.add(keras.layers.Conv2D(\n",
        "        input_shape=(IMAGE_WIDTH, IMAGE_HEIGHT, IMAGE_CHANNELS),\n",
        "        kernel_size=3,\n",
        "        filters=32,\n",
        "        strides=1,\n",
        "        activation='relu',\n",
        "        kernel_initializer='VarianceScaling'\n",
        "    ))\n",
        "    \n",
        "    # The MaxPooling layer acts as a sort of downsampling using max values\n",
        "    # in a region instead of averaging.\n",
        "    model.add(keras.layers.MaxPool2D(\n",
        "        pool_size=(2,2), \n",
        "        strides=(2,2)\n",
        "    ))\n",
        "    \n",
        "    model.add(keras.layers.Dropout(0.2))\n",
        "    \n",
        "    # Repeat another Conv2D + MazPooling stack.\n",
        "    # Note that we have more filters in the convolution.\n",
        "    model.add(keras.layers.Conv2D(\n",
        "        kernel_size=3,\n",
        "        filters=64,\n",
        "        strides=1,\n",
        "        activation='relu',\n",
        "        kernel_initializer='VarianceScaling'\n",
        "    ))\n",
        "    \n",
        "    model.add(keras.layers.MaxPool2D(\n",
        "        pool_size=(2,2),\n",
        "        strides=(2,2)\n",
        "    ))\n",
        "    \n",
        "    model.add(keras.layers.Conv2D(\n",
        "        kernel_size=3,\n",
        "        filters=64,\n",
        "        strides=1,\n",
        "        activation='relu',\n",
        "        kernel_initializer='VarianceScaling'\n",
        "    ))\n",
        "    \n",
        "    model.add(keras.layers.Dropout(0.2))\n",
        "    \n",
        "    # Now we flatten the output from the 2D filters into a 1D vector to prepare\n",
        "    # it for input into our last layer. This is common practice when feeding\n",
        "    # higher dimensional data to a final classification output layer.\n",
        "    model.add(keras.layers.Flatten())\n",
        "    \n",
        "    model.add(keras.layers.Dense(\n",
        "        units=64,\n",
        "        activation='relu',\n",
        "        kernel_initializer='VarianceScaling',\n",
        "        kernel_regularizer=keras.regularizers.l2(0.001)\n",
        "    ))\n",
        "    \n",
        "    # Our last layer is a dense layer which has 10 output units, one for each\n",
        "    # output class (i.e. 0, 1, 2, 3, 4, 5, 6, 7, 8, 9).\n",
        "    NUM_OUTPUT_CLASSES = 10;\n",
        "    model.add(keras.layers.Dense(\n",
        "        units=NUM_OUTPUT_CLASSES,\n",
        "        activation='softmax',\n",
        "        kernel_initializer='VarianceScaling',\n",
        "        kernel_regularizer=keras.regularizers.l2(0.001)\n",
        "    ))\n",
        "    \n",
        "    \n",
        "    # Choose an optimizer, loss function and accuracy matric,\n",
        "    # then compile and return the model\n",
        "    optimizer = keras.optimizers.Adam();\n",
        "    model.compile(\n",
        "        optimizer=optimizer,\n",
        "        loss='categorical_crossentropy',\n",
        "        metrics=['accuracy']\n",
        "    )\n",
        "    \n",
        "    return model\n"
      ],
      "execution_count": 0,
      "outputs": []
    },
    {
      "metadata": {
        "id": "RQxPleS6PLXf",
        "colab_type": "code",
        "colab": {}
      },
      "cell_type": "code",
      "source": [
        "?? keras.layers.Conv2D"
      ],
      "execution_count": 0,
      "outputs": []
    },
    {
      "metadata": {
        "id": "EAaB2Hxf495N",
        "colab_type": "text"
      },
      "cell_type": "markdown",
      "source": [
        "## Train the model"
      ]
    },
    {
      "metadata": {
        "id": "pBn_KbQXFbn6",
        "colab_type": "text"
      },
      "cell_type": "markdown",
      "source": [
        "### Model Selection"
      ]
    },
    {
      "metadata": {
        "id": "NrvHkr1cFt31",
        "colab_type": "text"
      },
      "cell_type": "markdown",
      "source": [
        "#### K-Fold"
      ]
    },
    {
      "metadata": {
        "id": "DrMF8vYtnKGb",
        "colab_type": "code",
        "outputId": "7da4525f-62d0-415d-88b3-6788bc2b880f",
        "colab": {
          "base_uri": "https://localhost:8080/",
          "height": 726
        }
      },
      "cell_type": "code",
      "source": [
        "from keras.datasets import mnist\n",
        "from keras.utils import to_categorical\n",
        "import numpy as np\n",
        "\n",
        "BATCH_SIZE = 64\n",
        "\n",
        "NUM_TRAIN_SAMPLES = 60000\n",
        "NUM_TEST_SAMPLES = 10000\n",
        "\n",
        "K_FOLD = 3\n",
        "NUM_VALIDATION_SAMPLES = NUM_TRAIN_SAMPLES // K_FOLD\n",
        "\n",
        "train, test = mnist.load_data()\n",
        "\n",
        "x_train, y_train = train\n",
        "x_test, y_test = test\n",
        "\n",
        "shuffled_indices = np.arange(x_train.shape[0])\n",
        "np.random.shuffle(shuffled_indices)\n",
        "\n",
        "x_train = x_train[shuffled_indices]\n",
        "y_train = y_train[shuffled_indices]\n",
        "\n",
        "x_train = x_train.reshape((NUM_TRAIN_SAMPLES, IMAGE_WIDTH, IMAGE_HEIGHT, IMAGE_CHANNELS))\n",
        "x_train = x_train.astype('float32') / 255\n",
        "x_test = x_test.reshape((NUM_TEST_SAMPLES, IMAGE_WIDTH, IMAGE_HEIGHT, IMAGE_CHANNELS))\n",
        "x_test = x_test.astype('float32') / 255\n",
        "\n",
        "\n",
        "y_train = to_categorical(y_train)\n",
        "y_test = to_categorical(y_test)\n",
        "\n",
        "validation_scores = []\n",
        "\n",
        "for fold in range(K_FOLD):\n",
        "  x_val = x_train[NUM_VALIDATION_SAMPLES * fold: NUM_VALIDATION_SAMPLES * (fold+1)]\n",
        "  y_val = y_train[NUM_VALIDATION_SAMPLES * fold: NUM_VALIDATION_SAMPLES * (fold+1)]\n",
        "  \n",
        "  x_train_fld = np.concatenate((x_train[:NUM_VALIDATION_SAMPLES * fold], x_train[NUM_VALIDATION_SAMPLES * (fold+1):]))\n",
        "  y_train_fld = np.concatenate((y_train[:NUM_VALIDATION_SAMPLES * fold], y_train[NUM_VALIDATION_SAMPLES * (fold+1):]))\n",
        "  \n",
        "  model = get_model()\n",
        "  model.fit(\n",
        "      x_train_fld,\n",
        "      y_train_fld,\n",
        "      batch_size=BATCH_SIZE,\n",
        "      epochs=NUM_EPOCHS,\n",
        "      shuffle=True,\n",
        "      callbacks=None\n",
        "  )\n",
        "  scores = model.evaluate(x_val, y_val)\n",
        "  validation_scores.append(scores)\n",
        "  \n",
        "np.average(validation_scores, axis=0)\n"
      ],
      "execution_count": 0,
      "outputs": [
        {
          "output_type": "stream",
          "text": [
            "Downloading data from https://s3.amazonaws.com/img-datasets/mnist.npz\n",
            "\r    8192/11490434 [..............................] - ETA: 0s"
          ],
          "name": "stdout"
        },
        {
          "output_type": "stream",
          "text": [
            "Using TensorFlow backend.\n"
          ],
          "name": "stderr"
        },
        {
          "output_type": "stream",
          "text": [
            "11493376/11490434 [==============================] - 0s 0us/step\n",
            "Epoch 1/5\n",
            "40000/40000 [==============================] - 15s 381us/sample - loss: 3.4864 - accuracy: 0.2545\n",
            "Epoch 2/5\n",
            "40000/40000 [==============================] - 15s 384us/sample - loss: 1.4433 - accuracy: 0.5096\n",
            "Epoch 3/5\n",
            "40000/40000 [==============================] - 15s 383us/sample - loss: 0.5813 - accuracy: 0.8330\n",
            "Epoch 4/5\n",
            "40000/40000 [==============================] - 17s 430us/sample - loss: 0.4094 - accuracy: 0.8850\n",
            "Epoch 5/5\n",
            "40000/40000 [==============================] - 15s 379us/sample - loss: 0.3393 - accuracy: 0.9063\n",
            "20000/20000 [==============================] - 3s 138us/sample - loss: 0.2571 - accuracy: 0.9330\n",
            "Epoch 1/5\n",
            "40000/40000 [==============================] - 15s 385us/sample - loss: 3.1276 - accuracy: 0.3072\n",
            "Epoch 2/5\n",
            "40000/40000 [==============================] - 15s 385us/sample - loss: 0.8583 - accuracy: 0.7247\n",
            "Epoch 3/5\n",
            "40000/40000 [==============================] - 15s 381us/sample - loss: 0.4600 - accuracy: 0.8654\n",
            "Epoch 4/5\n",
            "40000/40000 [==============================] - 17s 434us/sample - loss: 0.3439 - accuracy: 0.9032\n",
            "Epoch 5/5\n",
            "40000/40000 [==============================] - 16s 394us/sample - loss: 0.2721 - accuracy: 0.9258\n",
            "20000/20000 [==============================] - 4s 183us/sample - loss: 0.1954 - accuracy: 0.9491\n",
            "Epoch 1/5\n",
            "40000/40000 [==============================] - 16s 391us/sample - loss: 3.6697 - accuracy: 0.2382\n",
            "Epoch 2/5\n",
            "40000/40000 [==============================] - 15s 380us/sample - loss: 1.3219 - accuracy: 0.5789\n",
            "Epoch 3/5\n",
            "40000/40000 [==============================] - 16s 402us/sample - loss: 0.5811 - accuracy: 0.8270\n",
            "Epoch 4/5\n",
            "40000/40000 [==============================] - 16s 406us/sample - loss: 0.3741 - accuracy: 0.8942\n",
            "Epoch 5/5\n",
            "40000/40000 [==============================] - 15s 376us/sample - loss: 0.2685 - accuracy: 0.9273\n",
            "20000/20000 [==============================] - 3s 138us/sample - loss: 0.1964 - accuracy: 0.9484\n"
          ],
          "name": "stdout"
        },
        {
          "output_type": "execute_result",
          "data": {
            "text/plain": [
              "array([0.21627314, 0.94350002])"
            ]
          },
          "metadata": {
            "tags": []
          },
          "execution_count": 7
        }
      ]
    },
    {
      "metadata": {
        "id": "FxH_f5ZhF0AX",
        "colab_type": "text"
      },
      "cell_type": "markdown",
      "source": [
        "#### Epoch selection"
      ]
    },
    {
      "metadata": {
        "id": "Es-T0Zs4Fya9",
        "colab_type": "code",
        "outputId": "f91f4692-0f35-41fc-83ae-ed59e17ef7ad",
        "colab": {
          "base_uri": "https://localhost:8080/",
          "height": 374
        }
      },
      "cell_type": "code",
      "source": [
        "from keras.datasets import mnist\n",
        "from keras.utils import to_categorical\n",
        "import numpy as np\n",
        "\n",
        "BATCH_SIZE = 64\n",
        "\n",
        "NUM_TRAIN_SAMPLES = 60000\n",
        "NUM_TEST_SAMPLES = 10000\n",
        "\n",
        "NUM_VALIDATION_SAMPLES = NUM_TRAIN_SAMPLES * 10 // 100 # 10% of training samples\n",
        "\n",
        "MAX_EPOCHS = 10\n",
        "\n",
        "train, test = mnist.load_data()\n",
        "\n",
        "x_train, y_train = train\n",
        "x_test, y_test = test\n",
        "\n",
        "shuffled_indices = np.arange(x_train.shape[0])\n",
        "np.random.shuffle(shuffled_indices)\n",
        "\n",
        "x_train = x_train[shuffled_indices]\n",
        "y_train = y_train[shuffled_indices]\n",
        "\n",
        "x_train = x_train.reshape((NUM_TRAIN_SAMPLES, IMAGE_WIDTH, IMAGE_HEIGHT, IMAGE_CHANNELS))\n",
        "x_train = x_train.astype('float32') / 255\n",
        "x_test = x_test.reshape((NUM_TEST_SAMPLES, IMAGE_WIDTH, IMAGE_HEIGHT, IMAGE_CHANNELS))\n",
        "x_test = x_test.astype('float32') / 255\n",
        "\n",
        "\n",
        "y_train = to_categorical(y_train)\n",
        "y_test = to_categorical(y_test)\n",
        "\n",
        "validation_scores = []\n",
        "\n",
        "\n",
        "x_val = x_train[:NUM_VALIDATION_SAMPLES]\n",
        "y_val = y_train[:NUM_VALIDATION_SAMPLES]\n",
        "\n",
        "x_train_ = x_train[NUM_VALIDATION_SAMPLES:]\n",
        "y_train_ = y_train[NUM_VALIDATION_SAMPLES:]\n",
        "\n",
        "model = get_model()\n",
        "history = model.fit(\n",
        "    x_train_,\n",
        "    y_train_,\n",
        "    validation_data=(x_val, y_val),\n",
        "    batch_size=BATCH_SIZE,\n",
        "    epochs=MAX_EPOCHS,\n",
        "    shuffle=True,\n",
        "    callbacks=None\n",
        ")\n",
        "\n",
        "  "
      ],
      "execution_count": 21,
      "outputs": [
        {
          "output_type": "stream",
          "text": [
            "Train on 54000 samples, validate on 6000 samples\n",
            "Epoch 1/10\n",
            "54000/54000 [==============================] - 40s 742us/sample - loss: 0.2666 - accuracy: 0.9339 - val_loss: 0.1131 - val_accuracy: 0.9790\n",
            "Epoch 2/10\n",
            "54000/54000 [==============================] - 41s 758us/sample - loss: 0.1110 - accuracy: 0.9790 - val_loss: 0.0775 - val_accuracy: 0.9858\n",
            "Epoch 3/10\n",
            "54000/54000 [==============================] - 41s 757us/sample - loss: 0.0896 - accuracy: 0.9832 - val_loss: 0.0738 - val_accuracy: 0.9873\n",
            "Epoch 4/10\n",
            "54000/54000 [==============================] - 40s 750us/sample - loss: 0.0757 - accuracy: 0.9860 - val_loss: 0.0612 - val_accuracy: 0.9902\n",
            "Epoch 5/10\n",
            "54000/54000 [==============================] - 39s 717us/sample - loss: 0.0689 - accuracy: 0.9874 - val_loss: 0.0659 - val_accuracy: 0.9882\n",
            "Epoch 6/10\n",
            "54000/54000 [==============================] - 40s 746us/sample - loss: 0.0625 - accuracy: 0.9883 - val_loss: 0.0594 - val_accuracy: 0.9887\n",
            "Epoch 7/10\n",
            "54000/54000 [==============================] - 39s 715us/sample - loss: 0.0598 - accuracy: 0.9889 - val_loss: 0.0600 - val_accuracy: 0.9895\n",
            "Epoch 8/10\n",
            "54000/54000 [==============================] - 40s 748us/sample - loss: 0.0545 - accuracy: 0.9895 - val_loss: 0.0486 - val_accuracy: 0.9915\n",
            "Epoch 9/10\n",
            "54000/54000 [==============================] - 38s 706us/sample - loss: 0.0528 - accuracy: 0.9903 - val_loss: 0.0515 - val_accuracy: 0.9903\n",
            "Epoch 10/10\n",
            "54000/54000 [==============================] - 40s 744us/sample - loss: 0.0487 - accuracy: 0.9915 - val_loss: 0.0443 - val_accuracy: 0.9932\n"
          ],
          "name": "stdout"
        }
      ]
    },
    {
      "metadata": {
        "id": "6NPlnYMcTwJh",
        "colab_type": "code",
        "colab": {}
      },
      "cell_type": "code",
      "source": [
        "model.save(\"cpt-5\")"
      ],
      "execution_count": 0,
      "outputs": []
    },
    {
      "metadata": {
        "id": "4j0icVgGP0Is",
        "colab_type": "code",
        "outputId": "b924b756-6e6f-4f0a-8ada-88607d1804c4",
        "colab": {
          "base_uri": "https://localhost:8080/",
          "height": 204
        }
      },
      "cell_type": "code",
      "source": [
        "history_copy = history.history.copy()\n",
        "\n",
        "history = model.fit(\n",
        "    x_train_,\n",
        "    y_train_,\n",
        "    validation_data=(x_val, y_val),\n",
        "    batch_size=BATCH_SIZE,\n",
        "    epochs=MAX_EPOCHS,\n",
        "    shuffle=True,\n",
        "    callbacks=None\n",
        ")\n",
        "\n"
      ],
      "execution_count": 16,
      "outputs": [
        {
          "output_type": "stream",
          "text": [
            "Train on 54000 samples, validate on 6000 samples\n",
            "Epoch 1/5\n",
            "54000/54000 [==============================] - 41s 763us/sample - loss: 0.1405 - accuracy: 0.9835 - val_loss: 0.1409 - val_accuracy: 0.9832\n",
            "Epoch 2/5\n",
            "54000/54000 [==============================] - 39s 720us/sample - loss: 0.1407 - accuracy: 0.9840 - val_loss: 0.1426 - val_accuracy: 0.9828\n",
            "Epoch 3/5\n",
            "54000/54000 [==============================] - 42s 774us/sample - loss: 0.1389 - accuracy: 0.9837 - val_loss: 0.1341 - val_accuracy: 0.9857\n",
            "Epoch 4/5\n",
            "54000/54000 [==============================] - 38s 703us/sample - loss: 0.1375 - accuracy: 0.9839 - val_loss: 0.1327 - val_accuracy: 0.9860\n",
            "Epoch 5/5\n",
            "54000/54000 [==============================] - 40s 742us/sample - loss: 0.1368 - accuracy: 0.9844 - val_loss: 0.1363 - val_accuracy: 0.9858\n"
          ],
          "name": "stdout"
        }
      ]
    },
    {
      "metadata": {
        "id": "x5i_RnUYOeGJ",
        "colab_type": "text"
      },
      "cell_type": "markdown",
      "source": [
        "Plot the epoch wise performance"
      ]
    },
    {
      "metadata": {
        "id": "GGAloTsIOHnq",
        "colab_type": "code",
        "outputId": "9016785c-3de6-44bf-afce-6b46562af9fe",
        "colab": {
          "base_uri": "https://localhost:8080/",
          "height": 295
        }
      },
      "cell_type": "code",
      "source": [
        "import matplotlib.pyplot as plt\n",
        "\n",
        "history_dict = history.history\n",
        "loss_values = history_dict['loss']\n",
        "val_loss_values = history_dict['val_loss']\n",
        "\n",
        "epochs = range(1, len(loss_values) + 1)\n",
        "\n",
        "plt.plot(epochs, loss_values, 'bo', label='Training loss')\n",
        "plt.plot(epochs, val_loss_values, 'b', label='Validation loss')\n",
        "plt.title('Training and validation loss')\n",
        "plt.xlabel('Epochs')\n",
        "plt.ylabel('Loss')\n",
        "plt.legend()\n",
        "\n",
        "plt.show()\n"
      ],
      "execution_count": 29,
      "outputs": [
        {
          "output_type": "display_data",
          "data": {
            "image/png": "[encoded data removed]",
            "text/plain": [
              "<Figure size 432x288 with 1 Axes>"
            ]
          },
          "metadata": {
            "tags": []
          }
        }
      ]
    },
    {
      "metadata": {
        "id": "oydEwhpunsdi",
        "colab_type": "text"
      },
      "cell_type": "markdown",
      "source": [
        "### Evaluate on test set"
      ]
    },
    {
      "metadata": {
        "id": "-h_RNkSnnsJF",
        "colab_type": "code",
        "outputId": "761edcfa-9663-4a31-a729-8ee44b387a86",
        "colab": {
          "base_uri": "https://localhost:8080/",
          "height": 51
        }
      },
      "cell_type": "code",
      "source": [
        "model.evaluate(x_test, y_test)"
      ],
      "execution_count": 26,
      "outputs": [
        {
          "output_type": "stream",
          "text": [
            "10000/10000 [==============================] - 2s 219us/sample - loss: 0.0433 - accuracy: 0.9929\n"
          ],
          "name": "stdout"
        },
        {
          "output_type": "execute_result",
          "data": {
            "text/plain": [
              "[0.043273243573307994, 0.9929]"
            ]
          },
          "metadata": {
            "tags": []
          },
          "execution_count": 26
        }
      ]
    },
    {
      "metadata": {
        "id": "PySkMmLIn6X6",
        "colab_type": "code",
        "outputId": "f0d9b34e-9d4b-48af-a0b6-33bbc30fcebb",
        "colab": {
          "base_uri": "https://localhost:8080/",
          "height": 34
        }
      },
      "cell_type": "code",
      "source": [
        "x_test.dtype"
      ],
      "execution_count": 0,
      "outputs": [
        {
          "output_type": "execute_result",
          "data": {
            "text/plain": [
              "dtype('float32')"
            ]
          },
          "metadata": {
            "tags": []
          },
          "execution_count": 66
        }
      ]
    },
    {
      "metadata": {
        "id": "50JLVFzAC_lg",
        "colab_type": "text"
      },
      "cell_type": "markdown",
      "source": [
        "### Run the following code to authenticate/authorize your Google Drive for the purpose of mounting in this virtual machine\n",
        "### we will use this to save the trained model to your GDrive"
      ]
    },
    {
      "metadata": {
        "id": "ftHask3MBwdI",
        "colab_type": "code",
        "outputId": "d39e18aa-9dfe-4e34-91bf-914965f8e99b",
        "colab": {
          "base_uri": "https://localhost:8080/",
          "height": 189
        }
      },
      "cell_type": "code",
      "source": [
        "# Run this to authenticate/authorize your google drive\n",
        "from google.colab import drive\n",
        "drive.mount('/content/gdrive')"
      ],
      "execution_count": 27,
      "outputs": [
        {
          "output_type": "stream",
          "text": [
            "Go to this URL in a browser: https://accounts.google.com/o/oauth2/auth?client_id=947318989803-6bn6qk8qdgf4n4g3pfee6491hc0brc4i.apps.googleusercontent.com&redirect_uri=urn%3Aietf%3Awg%3Aoauth%3A2.0%3Aoob&scope=email%20https%3A%2F%2Fwww.googleapis.com%2Fauth%2Fdocs.test%20https%3A%2F%2Fwww.googleapis.com%2Fauth%2Fdrive%20https%3A%2F%2Fwww.googleapis.com%2Fauth%2Fdrive.photos.readonly%20https%3A%2F%2Fwww.googleapis.com%2Fauth%2Fpeopleapi.readonly&response_type=code\n",
            "\n",
            "Enter your authorization code:\n",
            "··········\n",
            "Mounted at /content/gdrive\n"
          ],
          "name": "stdout"
        }
      ]
    },
    {
      "metadata": {
        "id": "LLx_2gZiDQI9",
        "colab_type": "text"
      },
      "cell_type": "markdown",
      "source": [
        "### Save the model"
      ]
    },
    {
      "metadata": {
        "id": "Ii62I4m-jiFH",
        "colab_type": "code",
        "colab": {}
      },
      "cell_type": "code",
      "source": [
        "MODEL_SAVE_PATH_GDRIVE = '/content/gdrive/My Drive/mnist_cnn_tfjs'\n",
        "tfjs.converters.save_keras_model(model, MODEL_SAVE_PATH_GDRIVE)"
      ],
      "execution_count": 0,
      "outputs": []
    },
    {
      "metadata": {
        "id": "uBS1CRtsDSGn",
        "colab_type": "text"
      },
      "cell_type": "markdown",
      "source": [
        "### The trained model is now available in your Google Drive in the location `My Drive/mnist_cnn_tfjs`"
      ]
    }
  ]
}